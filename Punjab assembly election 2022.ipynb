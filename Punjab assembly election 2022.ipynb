{
 "cells": [
  {
   "cell_type": "code",
   "execution_count": 1,
   "id": "96d94331",
   "metadata": {},
   "outputs": [],
   "source": [
    "import pandas as pd\n",
    "import numpy as np\n",
    "import seaborn as sns\n",
    "import matplotlib.pyplot as plt"
   ]
  },
  {
   "cell_type": "code",
   "execution_count": 39,
   "id": "c052b038",
   "metadata": {},
   "outputs": [],
   "source": [
    "PAE=pd.read_csv(\"Punjab Assembly Elections 2022.csv\")"
   ]
  },
  {
   "cell_type": "code",
   "execution_count": 75,
   "id": "af133442",
   "metadata": {},
   "outputs": [
    {
     "data": {
      "text/html": [
       "<div>\n",
       "<style scoped>\n",
       "    .dataframe tbody tr th:only-of-type {\n",
       "        vertical-align: middle;\n",
       "    }\n",
       "\n",
       "    .dataframe tbody tr th {\n",
       "        vertical-align: top;\n",
       "    }\n",
       "\n",
       "    .dataframe thead th {\n",
       "        text-align: right;\n",
       "    }\n",
       "</style>\n",
       "<table border=\"1\" class=\"dataframe\">\n",
       "  <thead>\n",
       "    <tr style=\"text-align: right;\">\n",
       "      <th></th>\n",
       "      <th>AC Name</th>\n",
       "      <th>AC No.</th>\n",
       "      <th>Type</th>\n",
       "      <th>District</th>\n",
       "      <th>Winning Candidate</th>\n",
       "      <th>Party</th>\n",
       "      <th>EVM Votes</th>\n",
       "      <th>Postal Votes\\t</th>\n",
       "      <th>Total Votes\\t</th>\n",
       "      <th>% of Votes</th>\n",
       "    </tr>\n",
       "  </thead>\n",
       "  <tbody>\n",
       "    <tr>\n",
       "      <th>0</th>\n",
       "      <td>Abohar</td>\n",
       "      <td>81</td>\n",
       "      <td>GEN</td>\n",
       "      <td>Firozpur</td>\n",
       "      <td>SANDEEP JAKHAR</td>\n",
       "      <td>Indian National Congress</td>\n",
       "      <td>49390</td>\n",
       "      <td>534</td>\n",
       "      <td>49924</td>\n",
       "      <td>37.51</td>\n",
       "    </tr>\n",
       "    <tr>\n",
       "      <th>1</th>\n",
       "      <td>Adampur</td>\n",
       "      <td>38</td>\n",
       "      <td>SC</td>\n",
       "      <td>Jalandhar</td>\n",
       "      <td>SUKHWINDER SINGH KOTLI</td>\n",
       "      <td>Indian National Congress</td>\n",
       "      <td>39373</td>\n",
       "      <td>181</td>\n",
       "      <td>39554</td>\n",
       "      <td>34.77</td>\n",
       "    </tr>\n",
       "    <tr>\n",
       "      <th>2</th>\n",
       "      <td>Ajnala</td>\n",
       "      <td>11</td>\n",
       "      <td>GEN</td>\n",
       "      <td>Amritsar</td>\n",
       "      <td>KULDEEP SINGH DHALIWAL</td>\n",
       "      <td>Aam Aadmi Party</td>\n",
       "      <td>43257</td>\n",
       "      <td>298</td>\n",
       "      <td>43555</td>\n",
       "      <td>35.69</td>\n",
       "    </tr>\n",
       "    <tr>\n",
       "      <th>3</th>\n",
       "      <td>Amargarh</td>\n",
       "      <td>106</td>\n",
       "      <td>GEN</td>\n",
       "      <td>Sangrur</td>\n",
       "      <td>PROF. JASWANT SINGH GAJJAN MAJRA</td>\n",
       "      <td>Aam Aadmi Party</td>\n",
       "      <td>44294</td>\n",
       "      <td>229</td>\n",
       "      <td>44523</td>\n",
       "      <td>34.28</td>\n",
       "    </tr>\n",
       "    <tr>\n",
       "      <th>4</th>\n",
       "      <td>Amloh</td>\n",
       "      <td>56</td>\n",
       "      <td>GEN</td>\n",
       "      <td>Fatehgarh Sahib</td>\n",
       "      <td>Gurinder Singh Garry Birring</td>\n",
       "      <td>Aam Aadmi Party</td>\n",
       "      <td>52648</td>\n",
       "      <td>264</td>\n",
       "      <td>52912</td>\n",
       "      <td>46.43</td>\n",
       "    </tr>\n",
       "  </tbody>\n",
       "</table>\n",
       "</div>"
      ],
      "text/plain": [
       "    AC Name  AC No. Type         District                 Winning Candidate  \\\n",
       "0    Abohar      81  GEN         Firozpur                    SANDEEP JAKHAR   \n",
       "1   Adampur      38   SC        Jalandhar            SUKHWINDER SINGH KOTLI   \n",
       "2    Ajnala      11  GEN         Amritsar            KULDEEP SINGH DHALIWAL   \n",
       "3  Amargarh     106  GEN          Sangrur  PROF. JASWANT SINGH GAJJAN MAJRA   \n",
       "4     Amloh      56  GEN  Fatehgarh Sahib      Gurinder Singh Garry Birring   \n",
       "\n",
       "                      Party  EVM Votes  Postal Votes\\t  Total Votes\\t  \\\n",
       "0  Indian National Congress      49390             534          49924   \n",
       "1  Indian National Congress      39373             181          39554   \n",
       "2           Aam Aadmi Party      43257             298          43555   \n",
       "3           Aam Aadmi Party      44294             229          44523   \n",
       "4           Aam Aadmi Party      52648             264          52912   \n",
       "\n",
       "   % of Votes  \n",
       "0       37.51  \n",
       "1       34.77  \n",
       "2       35.69  \n",
       "3       34.28  \n",
       "4       46.43  "
      ]
     },
     "execution_count": 75,
     "metadata": {},
     "output_type": "execute_result"
    }
   ],
   "source": [
    "PAE.head(5)"
   ]
  },
  {
   "cell_type": "code",
   "execution_count": 76,
   "id": "6acf696b",
   "metadata": {},
   "outputs": [
    {
     "data": {
      "text/html": [
       "<div>\n",
       "<style scoped>\n",
       "    .dataframe tbody tr th:only-of-type {\n",
       "        vertical-align: middle;\n",
       "    }\n",
       "\n",
       "    .dataframe tbody tr th {\n",
       "        vertical-align: top;\n",
       "    }\n",
       "\n",
       "    .dataframe thead th {\n",
       "        text-align: right;\n",
       "    }\n",
       "</style>\n",
       "<table border=\"1\" class=\"dataframe\">\n",
       "  <thead>\n",
       "    <tr style=\"text-align: right;\">\n",
       "      <th></th>\n",
       "      <th>AC Name</th>\n",
       "      <th>AC No.</th>\n",
       "      <th>Type</th>\n",
       "      <th>District</th>\n",
       "      <th>Winning Candidate</th>\n",
       "      <th>Party</th>\n",
       "      <th>EVM Votes</th>\n",
       "      <th>Postal Votes\\t</th>\n",
       "      <th>Total Votes\\t</th>\n",
       "      <th>% of Votes</th>\n",
       "    </tr>\n",
       "  </thead>\n",
       "  <tbody>\n",
       "    <tr>\n",
       "      <th>112</th>\n",
       "      <td>Sunam</td>\n",
       "      <td>101</td>\n",
       "      <td>GEN</td>\n",
       "      <td>Sangrur</td>\n",
       "      <td>AMAN ARORA</td>\n",
       "      <td>Aam Aadmi Party</td>\n",
       "      <td>94274</td>\n",
       "      <td>520</td>\n",
       "      <td>94794</td>\n",
       "      <td>61.28</td>\n",
       "    </tr>\n",
       "    <tr>\n",
       "      <th>113</th>\n",
       "      <td>Talwandi Sabo</td>\n",
       "      <td>94</td>\n",
       "      <td>GEN</td>\n",
       "      <td>Bathinda</td>\n",
       "      <td>Prof. Baljinder Kaur</td>\n",
       "      <td>Aam Aadmi Party</td>\n",
       "      <td>48358</td>\n",
       "      <td>395</td>\n",
       "      <td>48753</td>\n",
       "      <td>37.04</td>\n",
       "    </tr>\n",
       "    <tr>\n",
       "      <th>114</th>\n",
       "      <td>Tarn Taran</td>\n",
       "      <td>21</td>\n",
       "      <td>GEN</td>\n",
       "      <td>Amritsar</td>\n",
       "      <td>Dr. Kashmir Singh Sohal</td>\n",
       "      <td>Aam Aadmi Party</td>\n",
       "      <td>52469</td>\n",
       "      <td>466</td>\n",
       "      <td>52935</td>\n",
       "      <td>40.45</td>\n",
       "    </tr>\n",
       "    <tr>\n",
       "      <th>115</th>\n",
       "      <td>Urmar</td>\n",
       "      <td>41</td>\n",
       "      <td>GEN</td>\n",
       "      <td>Hoshiarpur</td>\n",
       "      <td>Jasvir Singh Raja Gill</td>\n",
       "      <td>Aam Aadmi Party</td>\n",
       "      <td>42029</td>\n",
       "      <td>547</td>\n",
       "      <td>42576</td>\n",
       "      <td>34.01</td>\n",
       "    </tr>\n",
       "    <tr>\n",
       "      <th>116</th>\n",
       "      <td>Zira</td>\n",
       "      <td>75</td>\n",
       "      <td>GEN</td>\n",
       "      <td>Firozpur</td>\n",
       "      <td>Naresh Kataria</td>\n",
       "      <td>Aam Aadmi Party</td>\n",
       "      <td>63709</td>\n",
       "      <td>325</td>\n",
       "      <td>64034</td>\n",
       "      <td>42.35</td>\n",
       "    </tr>\n",
       "  </tbody>\n",
       "</table>\n",
       "</div>"
      ],
      "text/plain": [
       "           AC Name  AC No. Type    District        Winning Candidate  \\\n",
       "112          Sunam     101  GEN     Sangrur               AMAN ARORA   \n",
       "113  Talwandi Sabo      94  GEN    Bathinda     Prof. Baljinder Kaur   \n",
       "114     Tarn Taran      21  GEN    Amritsar  Dr. Kashmir Singh Sohal   \n",
       "115          Urmar      41  GEN  Hoshiarpur   Jasvir Singh Raja Gill   \n",
       "116           Zira      75  GEN    Firozpur           Naresh Kataria   \n",
       "\n",
       "               Party  EVM Votes  Postal Votes\\t  Total Votes\\t  % of Votes  \n",
       "112  Aam Aadmi Party      94274             520          94794       61.28  \n",
       "113  Aam Aadmi Party      48358             395          48753       37.04  \n",
       "114  Aam Aadmi Party      52469             466          52935       40.45  \n",
       "115  Aam Aadmi Party      42029             547          42576       34.01  \n",
       "116  Aam Aadmi Party      63709             325          64034       42.35  "
      ]
     },
     "execution_count": 76,
     "metadata": {},
     "output_type": "execute_result"
    }
   ],
   "source": [
    "PAE.tail(5)"
   ]
  },
  {
   "cell_type": "code",
   "execution_count": 5,
   "id": "1640ba3d",
   "metadata": {},
   "outputs": [
    {
     "name": "stdout",
     "output_type": "stream",
     "text": [
      "<class 'pandas.core.frame.DataFrame'>\n",
      "RangeIndex: 117 entries, 0 to 116\n",
      "Data columns (total 10 columns):\n",
      " #   Column             Non-Null Count  Dtype  \n",
      "---  ------             --------------  -----  \n",
      " 0   AC Name            117 non-null    object \n",
      " 1   AC No.             117 non-null    int64  \n",
      " 2   Type               117 non-null    object \n",
      " 3   District           117 non-null    object \n",
      " 4   Winning Candidate  117 non-null    object \n",
      " 5   Party              117 non-null    object \n",
      " 6   EVM Votes          117 non-null    int64  \n",
      " 7   Postal Votes\t      117 non-null    int64  \n",
      " 8   Total Votes\t       117 non-null    int64  \n",
      " 9   % of Votes         117 non-null    float64\n",
      "dtypes: float64(1), int64(4), object(5)\n",
      "memory usage: 9.3+ KB\n"
     ]
    }
   ],
   "source": [
    "PAE.info()"
   ]
  },
  {
   "cell_type": "code",
   "execution_count": 6,
   "id": "6c182e78",
   "metadata": {},
   "outputs": [
    {
     "data": {
      "text/plain": [
       "(117, 10)"
      ]
     },
     "execution_count": 6,
     "metadata": {},
     "output_type": "execute_result"
    }
   ],
   "source": [
    "PAE.shape"
   ]
  },
  {
   "cell_type": "code",
   "execution_count": 41,
   "id": "dc8957be",
   "metadata": {},
   "outputs": [
    {
     "data": {
      "text/html": [
       "<div>\n",
       "<style scoped>\n",
       "    .dataframe tbody tr th:only-of-type {\n",
       "        vertical-align: middle;\n",
       "    }\n",
       "\n",
       "    .dataframe tbody tr th {\n",
       "        vertical-align: top;\n",
       "    }\n",
       "\n",
       "    .dataframe thead th {\n",
       "        text-align: right;\n",
       "    }\n",
       "</style>\n",
       "<table border=\"1\" class=\"dataframe\">\n",
       "  <thead>\n",
       "    <tr style=\"text-align: right;\">\n",
       "      <th></th>\n",
       "      <th>AC No.</th>\n",
       "      <th>EVM Votes</th>\n",
       "      <th>Postal Votes\\t</th>\n",
       "      <th>Total Votes\\t</th>\n",
       "      <th>% of Votes</th>\n",
       "    </tr>\n",
       "  </thead>\n",
       "  <tbody>\n",
       "    <tr>\n",
       "      <th>count</th>\n",
       "      <td>117.000000</td>\n",
       "      <td>117.000000</td>\n",
       "      <td>117.000000</td>\n",
       "      <td>117.000000</td>\n",
       "      <td>117.000000</td>\n",
       "    </tr>\n",
       "    <tr>\n",
       "      <th>mean</th>\n",
       "      <td>59.000000</td>\n",
       "      <td>57795.444444</td>\n",
       "      <td>413.128205</td>\n",
       "      <td>58208.572650</td>\n",
       "      <td>43.479231</td>\n",
       "    </tr>\n",
       "    <tr>\n",
       "      <th>std</th>\n",
       "      <td>33.919021</td>\n",
       "      <td>15281.053220</td>\n",
       "      <td>239.501765</td>\n",
       "      <td>15394.568338</td>\n",
       "      <td>8.287270</td>\n",
       "    </tr>\n",
       "    <tr>\n",
       "      <th>min</th>\n",
       "      <td>1.000000</td>\n",
       "      <td>29606.000000</td>\n",
       "      <td>70.000000</td>\n",
       "      <td>29903.000000</td>\n",
       "      <td>26.410000</td>\n",
       "    </tr>\n",
       "    <tr>\n",
       "      <th>25%</th>\n",
       "      <td>30.000000</td>\n",
       "      <td>46802.000000</td>\n",
       "      <td>232.000000</td>\n",
       "      <td>46916.000000</td>\n",
       "      <td>36.550000</td>\n",
       "    </tr>\n",
       "    <tr>\n",
       "      <th>50%</th>\n",
       "      <td>59.000000</td>\n",
       "      <td>55715.000000</td>\n",
       "      <td>396.000000</td>\n",
       "      <td>56155.000000</td>\n",
       "      <td>43.110000</td>\n",
       "    </tr>\n",
       "    <tr>\n",
       "      <th>75%</th>\n",
       "      <td>88.000000</td>\n",
       "      <td>65698.000000</td>\n",
       "      <td>523.000000</td>\n",
       "      <td>66096.000000</td>\n",
       "      <td>49.610000</td>\n",
       "    </tr>\n",
       "    <tr>\n",
       "      <th>max</th>\n",
       "      <td>117.000000</td>\n",
       "      <td>99200.000000</td>\n",
       "      <td>1548.000000</td>\n",
       "      <td>100023.000000</td>\n",
       "      <td>64.290000</td>\n",
       "    </tr>\n",
       "  </tbody>\n",
       "</table>\n",
       "</div>"
      ],
      "text/plain": [
       "           AC No.     EVM Votes  Postal Votes\\t  Total Votes\\t  % of Votes\n",
       "count  117.000000    117.000000      117.000000     117.000000  117.000000\n",
       "mean    59.000000  57795.444444      413.128205   58208.572650   43.479231\n",
       "std     33.919021  15281.053220      239.501765   15394.568338    8.287270\n",
       "min      1.000000  29606.000000       70.000000   29903.000000   26.410000\n",
       "25%     30.000000  46802.000000      232.000000   46916.000000   36.550000\n",
       "50%     59.000000  55715.000000      396.000000   56155.000000   43.110000\n",
       "75%     88.000000  65698.000000      523.000000   66096.000000   49.610000\n",
       "max    117.000000  99200.000000     1548.000000  100023.000000   64.290000"
      ]
     },
     "execution_count": 41,
     "metadata": {},
     "output_type": "execute_result"
    }
   ],
   "source": [
    "PAE.describe()"
   ]
  },
  {
   "cell_type": "code",
   "execution_count": 9,
   "id": "4b29cf43",
   "metadata": {},
   "outputs": [
    {
     "data": {
      "text/html": [
       "<div>\n",
       "<style scoped>\n",
       "    .dataframe tbody tr th:only-of-type {\n",
       "        vertical-align: middle;\n",
       "    }\n",
       "\n",
       "    .dataframe tbody tr th {\n",
       "        vertical-align: top;\n",
       "    }\n",
       "\n",
       "    .dataframe thead th {\n",
       "        text-align: right;\n",
       "    }\n",
       "</style>\n",
       "<table border=\"1\" class=\"dataframe\">\n",
       "  <thead>\n",
       "    <tr style=\"text-align: right;\">\n",
       "      <th></th>\n",
       "      <th>AC Name</th>\n",
       "      <th>AC No.</th>\n",
       "      <th>Type</th>\n",
       "      <th>District</th>\n",
       "      <th>Winning Candidate</th>\n",
       "      <th>Party</th>\n",
       "      <th>EVM Votes</th>\n",
       "      <th>Postal Votes\\t</th>\n",
       "      <th>Total Votes\\t</th>\n",
       "      <th>% of Votes</th>\n",
       "    </tr>\n",
       "  </thead>\n",
       "  <tbody>\n",
       "    <tr>\n",
       "      <th>0</th>\n",
       "      <td>False</td>\n",
       "      <td>False</td>\n",
       "      <td>False</td>\n",
       "      <td>False</td>\n",
       "      <td>False</td>\n",
       "      <td>False</td>\n",
       "      <td>False</td>\n",
       "      <td>False</td>\n",
       "      <td>False</td>\n",
       "      <td>False</td>\n",
       "    </tr>\n",
       "    <tr>\n",
       "      <th>1</th>\n",
       "      <td>False</td>\n",
       "      <td>False</td>\n",
       "      <td>False</td>\n",
       "      <td>False</td>\n",
       "      <td>False</td>\n",
       "      <td>False</td>\n",
       "      <td>False</td>\n",
       "      <td>False</td>\n",
       "      <td>False</td>\n",
       "      <td>False</td>\n",
       "    </tr>\n",
       "    <tr>\n",
       "      <th>2</th>\n",
       "      <td>False</td>\n",
       "      <td>False</td>\n",
       "      <td>False</td>\n",
       "      <td>False</td>\n",
       "      <td>False</td>\n",
       "      <td>False</td>\n",
       "      <td>False</td>\n",
       "      <td>False</td>\n",
       "      <td>False</td>\n",
       "      <td>False</td>\n",
       "    </tr>\n",
       "    <tr>\n",
       "      <th>3</th>\n",
       "      <td>False</td>\n",
       "      <td>False</td>\n",
       "      <td>False</td>\n",
       "      <td>False</td>\n",
       "      <td>False</td>\n",
       "      <td>False</td>\n",
       "      <td>False</td>\n",
       "      <td>False</td>\n",
       "      <td>False</td>\n",
       "      <td>False</td>\n",
       "    </tr>\n",
       "    <tr>\n",
       "      <th>4</th>\n",
       "      <td>False</td>\n",
       "      <td>False</td>\n",
       "      <td>False</td>\n",
       "      <td>False</td>\n",
       "      <td>False</td>\n",
       "      <td>False</td>\n",
       "      <td>False</td>\n",
       "      <td>False</td>\n",
       "      <td>False</td>\n",
       "      <td>False</td>\n",
       "    </tr>\n",
       "    <tr>\n",
       "      <th>...</th>\n",
       "      <td>...</td>\n",
       "      <td>...</td>\n",
       "      <td>...</td>\n",
       "      <td>...</td>\n",
       "      <td>...</td>\n",
       "      <td>...</td>\n",
       "      <td>...</td>\n",
       "      <td>...</td>\n",
       "      <td>...</td>\n",
       "      <td>...</td>\n",
       "    </tr>\n",
       "    <tr>\n",
       "      <th>112</th>\n",
       "      <td>False</td>\n",
       "      <td>False</td>\n",
       "      <td>False</td>\n",
       "      <td>False</td>\n",
       "      <td>False</td>\n",
       "      <td>False</td>\n",
       "      <td>False</td>\n",
       "      <td>False</td>\n",
       "      <td>False</td>\n",
       "      <td>False</td>\n",
       "    </tr>\n",
       "    <tr>\n",
       "      <th>113</th>\n",
       "      <td>False</td>\n",
       "      <td>False</td>\n",
       "      <td>False</td>\n",
       "      <td>False</td>\n",
       "      <td>False</td>\n",
       "      <td>False</td>\n",
       "      <td>False</td>\n",
       "      <td>False</td>\n",
       "      <td>False</td>\n",
       "      <td>False</td>\n",
       "    </tr>\n",
       "    <tr>\n",
       "      <th>114</th>\n",
       "      <td>False</td>\n",
       "      <td>False</td>\n",
       "      <td>False</td>\n",
       "      <td>False</td>\n",
       "      <td>False</td>\n",
       "      <td>False</td>\n",
       "      <td>False</td>\n",
       "      <td>False</td>\n",
       "      <td>False</td>\n",
       "      <td>False</td>\n",
       "    </tr>\n",
       "    <tr>\n",
       "      <th>115</th>\n",
       "      <td>False</td>\n",
       "      <td>False</td>\n",
       "      <td>False</td>\n",
       "      <td>False</td>\n",
       "      <td>False</td>\n",
       "      <td>False</td>\n",
       "      <td>False</td>\n",
       "      <td>False</td>\n",
       "      <td>False</td>\n",
       "      <td>False</td>\n",
       "    </tr>\n",
       "    <tr>\n",
       "      <th>116</th>\n",
       "      <td>False</td>\n",
       "      <td>False</td>\n",
       "      <td>False</td>\n",
       "      <td>False</td>\n",
       "      <td>False</td>\n",
       "      <td>False</td>\n",
       "      <td>False</td>\n",
       "      <td>False</td>\n",
       "      <td>False</td>\n",
       "      <td>False</td>\n",
       "    </tr>\n",
       "  </tbody>\n",
       "</table>\n",
       "<p>117 rows × 10 columns</p>\n",
       "</div>"
      ],
      "text/plain": [
       "     AC Name  AC No.   Type  District  Winning Candidate  Party  EVM Votes  \\\n",
       "0      False   False  False     False              False  False      False   \n",
       "1      False   False  False     False              False  False      False   \n",
       "2      False   False  False     False              False  False      False   \n",
       "3      False   False  False     False              False  False      False   \n",
       "4      False   False  False     False              False  False      False   \n",
       "..       ...     ...    ...       ...                ...    ...        ...   \n",
       "112    False   False  False     False              False  False      False   \n",
       "113    False   False  False     False              False  False      False   \n",
       "114    False   False  False     False              False  False      False   \n",
       "115    False   False  False     False              False  False      False   \n",
       "116    False   False  False     False              False  False      False   \n",
       "\n",
       "     Postal Votes\\t  Total Votes\\t  % of Votes  \n",
       "0             False          False       False  \n",
       "1             False          False       False  \n",
       "2             False          False       False  \n",
       "3             False          False       False  \n",
       "4             False          False       False  \n",
       "..              ...            ...         ...  \n",
       "112           False          False       False  \n",
       "113           False          False       False  \n",
       "114           False          False       False  \n",
       "115           False          False       False  \n",
       "116           False          False       False  \n",
       "\n",
       "[117 rows x 10 columns]"
      ]
     },
     "execution_count": 9,
     "metadata": {},
     "output_type": "execute_result"
    }
   ],
   "source": [
    "PAE.isnull()"
   ]
  },
  {
   "cell_type": "code",
   "execution_count": 10,
   "id": "dfd9a37f",
   "metadata": {},
   "outputs": [
    {
     "data": {
      "text/plain": [
       "AC Name              0\n",
       "AC No.               0\n",
       "Type                 0\n",
       "District             0\n",
       "Winning Candidate    0\n",
       "Party                0\n",
       "EVM Votes            0\n",
       "Postal Votes\\t       0\n",
       "Total Votes\\t        0\n",
       "% of Votes           0\n",
       "dtype: int64"
      ]
     },
     "execution_count": 10,
     "metadata": {},
     "output_type": "execute_result"
    }
   ],
   "source": [
    "PAE.isnull().sum()"
   ]
  },
  {
   "cell_type": "code",
   "execution_count": 14,
   "id": "f7d42bab",
   "metadata": {},
   "outputs": [
    {
     "data": {
      "text/plain": [
       "Index(['AC Name', 'AC No.', 'Type', 'District', 'Winning Candidate', 'Party',\n",
       "       'EVM Votes', 'Postal Votes\\t', 'Total Votes\\t', '% of Votes'],\n",
       "      dtype='object')"
      ]
     },
     "execution_count": 14,
     "metadata": {},
     "output_type": "execute_result"
    }
   ],
   "source": [
    "PAE.columns"
   ]
  },
  {
   "cell_type": "code",
   "execution_count": 33,
   "id": "ce049c13",
   "metadata": {},
   "outputs": [
    {
     "data": {
      "text/plain": [
       "<function matplotlib.pyplot.show(close=None, block=None)>"
      ]
     },
     "execution_count": 33,
     "metadata": {},
     "output_type": "execute_result"
    },
    {
     "data": {
      "image/png": "[encoded data removed]",
      "text/plain": [
       "<Figure size 864x576 with 1 Axes>"
      ]
     },
     "metadata": {
      "needs_background": "light"
     },
     "output_type": "display_data"
    }
   ],
   "source": [
    "plt.figure(figsize=(12,8))\n",
    "plt.xticks(rotation=90)\n",
    "sns.barplot(x=\"Party\",y=\"% of Votes\",hue=\"Type\",data=PAE)\n",
    "plt.title(\"Party vs Percentage of votes\")\n",
    "plt.show"
   ]
  },
  {
   "cell_type": "code",
   "execution_count": 34,
   "id": "16ec73d8",
   "metadata": {},
   "outputs": [
    {
     "data": {
      "text/plain": [
       "array(['Indian National Congress', 'Aam Aadmi Party',\n",
       "       'Shiromani Akali Dal', 'Bharatiya Janata Party',\n",
       "       'Bahujan Samaj Party'], dtype=object)"
      ]
     },
     "execution_count": 34,
     "metadata": {},
     "output_type": "execute_result"
    }
   ],
   "source": [
    "PAE.Party.unique()"
   ]
  },
  {
   "cell_type": "code",
   "execution_count": 36,
   "id": "a8bbc239",
   "metadata": {},
   "outputs": [
    {
     "data": {
      "text/plain": [
       "Aam Aadmi Party             93\n",
       "Indian National Congress    18\n",
       "Shiromani Akali Dal          3\n",
       "Bharatiya Janata Party       2\n",
       "Bahujan Samaj Party          1\n",
       "Name: Party, dtype: int64"
      ]
     },
     "execution_count": 36,
     "metadata": {},
     "output_type": "execute_result"
    }
   ],
   "source": [
    "PAE.Party.value_counts()"
   ]
  },
  {
   "cell_type": "code",
   "execution_count": 44,
   "id": "0a3f0eb5",
   "metadata": {},
   "outputs": [],
   "source": [
    "import warnings\n",
    "warnings.filterwarnings('ignore')"
   ]
  },
  {
   "cell_type": "code",
   "execution_count": 74,
   "id": "d94286ba",
   "metadata": {},
   "outputs": [
    {
     "data": {
      "image/png": "[encoded data removed]",
      "text/plain": [
       "<Figure size 1080x432 with 1 Axes>"
      ]
     },
     "metadata": {
      "needs_background": "light"
     },
     "output_type": "display_data"
    }
   ],
   "source": [
    "plt.figure(figsize=(15,6))\n",
    "plt.xticks(rotation=90)\n",
    "plt.title(\"Majority of votes gain by Party\")\n",
    "sns.countplot('Party',data = PAE)\n",
    "plt.show()"
   ]
  },
  {
   "cell_type": "code",
   "execution_count": 72,
   "id": "a36555cd",
   "metadata": {},
   "outputs": [
    {
     "data": {
      "image/png": "[encoded data removed]",
      "text/plain": [
       "<Figure size 1080x432 with 1 Axes>"
      ]
     },
     "metadata": {},
     "output_type": "display_data"
    }
   ],
   "source": [
    "plt.figure(figsize=(15,6))\n",
    "colors=sns.color_palette('bright')\n",
    "explode = [0.1, 0.1, 0.1, 0.1, 0.1]\n",
    "plt.pie(PAE['Party'].value_counts(),labels=['Aam Aadmi Party','Indian National Congress',\n",
    "       'Shiromani Akali Dal', 'Bharatiya Janata Party',\n",
    "       'Bahujan Samaj Party'],\n",
    "        colors=colors,autopct='%0.0f%%',shadow='True',explode=explode,startangle=180)\n",
    "plt.title(\"Majority votes gain by party\")\n",
    "plt.show()"
   ]
  },
  {
   "cell_type": "code",
   "execution_count": null,
   "id": "5b60e976",
   "metadata": {},
   "outputs": [],
   "source": []
  }
 ],
 "metadata": {
  "kernelspec": {
   "display_name": "Python 3 (ipykernel)",
   "language": "python",
   "name": "python3"
  },
  "language_info": {
   "codemirror_mode": {
    "name": "ipython",
    "version": 3
   },
   "file_extension": ".py",
   "mimetype": "text/x-python",
   "name": "python",
   "nbconvert_exporter": "python",
   "pygments_lexer": "ipython3",
   "version": "3.9.7"
  }
 },
 "nbformat": 4,
 "nbformat_minor": 5
}
